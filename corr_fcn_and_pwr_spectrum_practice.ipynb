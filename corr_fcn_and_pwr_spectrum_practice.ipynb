{
 "cells": [
  {
   "cell_type": "code",
   "execution_count": 1,
   "id": "0cbc88d9",
   "metadata": {},
   "outputs": [],
   "source": [
    "# \"Let's try to write some code to 1) go from a simulation box to a power spectrum, and 2) go from a power \n",
    "#  spectrum to a random realization of the universe. Start with some random, arbitrarily made up data. When you\n",
    "#  get closer, for 1) ask Matteo to give you a few boxes from 21cmFAST at a number of different redshifts. For \n",
    "#  2) ask Hannah to generate you a matter power spectrum from CAMB, CLASS (or whatever she wants to use). It \n",
    "#  should only take each of them a few minutes.\n",
    "\n",
    "\n",
    "# advice from Hannah: isotropic universe means we should average over all k of same magnitude in the same \n",
    "# direction ... also, easier to just take the FT of a data cube and bypass literally calculating the \n",
    "# correlations (would be very computationally expensive...would have to calculate the correlation of each point \n",
    "# in the box with every other point in the box)"
   ]
  },
  {
   "cell_type": "code",
   "execution_count": 2,
   "id": "fb472b0d",
   "metadata": {},
   "outputs": [],
   "source": [
    "import numpy as np\n",
    "import matplotlib.pyplot as plt"
   ]
  },
  {
   "cell_type": "code",
   "execution_count": 3,
   "id": "1a143b08",
   "metadata": {},
   "outputs": [],
   "source": [
    "n=10 # number of points on a side in the simulation cube\n",
    "kref=n//2 # helpful for putting the origin of the simul cube at the ctr of the cube\n",
    "gx,gy,gz=np.mgrid[-n//2:n//2,\n",
    "                  -n//2:n//2,\n",
    "                  -n//2:n//2]\n",
    "kmags=np.empty((n,n,n)) # magnitude of k (WRT cube center) for each pt in the simul cube\n",
    "for i in range(n):\n",
    "    for j in range(n):\n",
    "        for k in range(n):\n",
    "            kmags[i,j,k]=np.sqrt(gx[i,j,k]**2+gy[i,j,k]**2+gz[i,j,k]**2)"
   ]
  },
  {
   "cell_type": "code",
   "execution_count": 4,
   "id": "1d8a1346",
   "metadata": {},
   "outputs": [],
   "source": [
    "# kmgchkh=open('/Users/sophiarubens/Downloads/CHORD_etc/kmags_check.txt','w')\n",
    "# for i in range(n):\n",
    "#     np.savetxt(kmgchkh,kmags[i],fmt='%1.3f')\n",
    "#     np.savetxt(kmgchkh,[0,0])\n",
    "# kmgchkh.close()"
   ]
  },
  {
   "cell_type": "code",
   "execution_count": 28,
   "id": "41ebd98b",
   "metadata": {},
   "outputs": [
    {
     "name": "stdout",
     "output_type": "stream",
     "text": [
      "modsqTt_unrav.shape: (1000,)\n",
      "kscalar_unrav.shape: (1000,)\n",
      "modsqTt_w_kscalar.shape (3, 1000)\n"
     ]
    }
   ],
   "source": [
    "T=np.random.normal(loc=0.0, scale=1.0, size=(n,n,n)) # 3D simulation box \n",
    "kscalar=np.array(kmags.copy())\n",
    "Ttilde=np.fft.fftn(T, s=(n,n,n), axes=None, norm=None) # FT of simulation box\n",
    "modsqTtilde=Ttilde*np.conjugate(Ttilde) # not a dot product...right?\n",
    "\n",
    "# tie together the modsq values and their corresponding kscalar values\n",
    "modsqTtildeCOPY=modsqTtilde.copy()\n",
    "modsqTt_unrav=np.ndarray.flatten(modsqTtildeCOPY)\n",
    "print('modsqTt_unrav.shape:',modsqTt_unrav.shape)\n",
    "kscalar_unrav=np.ndarray.flatten(kscalar) \n",
    "print('kscalar_unrav.shape:',kscalar_unrav.shape)\n",
    "blank=np.zeros((n**3,)) #flag: 0= not yet counted twd avg; 1= already included\n",
    "modsqTt_w_kscalar=np.array((modsqTt_unrav,kscalar_unrav,blank))\n",
    "# print(modsqTt_w_kscalar)\n",
    "print('modsqTt_w_kscalar.shape',modsqTt_w_kscalar.shape)\n",
    "\n",
    "# average Ttilde value for all box elements with the same kmag\n",
    "\n",
    "#format of rows: kmag,modsqTt_total,nvals\n",
    "for i in range(n):\n",
    "    if (modsqTt_w_kscalar[3]==0): #i.e. if elem\n",
    "\n",
    "# kscalar_modsqTtilde= ///# avg over box points with same k\n",
    "V=1 # depends on the kind of simulation?! (overwrite after figuring out)\n",
    "# Phat_of_kscalar=\n",
    "\n",
    "# power spectrum"
   ]
  },
  {
   "cell_type": "code",
   "execution_count": 20,
   "id": "73176363",
   "metadata": {},
   "outputs": [
    {
     "data": {
      "text/plain": [
       "(10,)"
      ]
     },
     "execution_count": 20,
     "metadata": {},
     "output_type": "execute_result"
    }
   ],
   "source": [
    "np.zeros((n,)).shape"
   ]
  },
  {
   "cell_type": "code",
   "execution_count": 6,
   "id": "2896754c",
   "metadata": {},
   "outputs": [
    {
     "data": {
      "text/plain": [
       "array([[[ 0.+0.j,  0.+0.j,  0.+0.j],\n",
       "        [ 0.+0.j,  0.+0.j,  0.+0.j],\n",
       "        [ 0.+0.j,  0.+0.j,  0.+0.j]],\n",
       "\n",
       "       [[ 9.+0.j,  0.+0.j,  0.+0.j],\n",
       "        [ 0.+0.j,  0.+0.j,  0.+0.j],\n",
       "        [ 0.+0.j,  0.+0.j,  0.+0.j]],\n",
       "\n",
       "       [[18.+0.j,  0.+0.j,  0.+0.j],\n",
       "        [ 0.+0.j,  0.+0.j,  0.+0.j],\n",
       "        [ 0.+0.j,  0.+0.j,  0.+0.j]]])"
      ]
     },
     "execution_count": 6,
     "metadata": {},
     "output_type": "execute_result"
    }
   ],
   "source": [
    "import numpy as np\n",
    "a = np.mgrid[:3, :3, :3][0]\n",
    "np.fft.fftn(a, axes=(1, 2))"
   ]
  }
 ],
 "metadata": {
  "kernelspec": {
   "display_name": "Python 3 (ipykernel)",
   "language": "python",
   "name": "python3"
  },
  "language_info": {
   "codemirror_mode": {
    "name": "ipython",
    "version": 3
   },
   "file_extension": ".py",
   "mimetype": "text/x-python",
   "name": "python",
   "nbconvert_exporter": "python",
   "pygments_lexer": "ipython3",
   "version": "3.10.8"
  }
 },
 "nbformat": 4,
 "nbformat_minor": 5
}
